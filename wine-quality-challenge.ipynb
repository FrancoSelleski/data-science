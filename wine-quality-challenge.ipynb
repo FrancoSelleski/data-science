{
 "cells": [
  {
   "attachments": {},
   "cell_type": "markdown",
   "metadata": {},
   "source": [
    "# Wine Quality Challenge\n",
    "We'll be using wine quality dataset. [LINK](https://archive.ics.uci.edu/dataset/186/wine+quality) \n",
    "\n",
    "Upon inspecting and researching relevant information from the dataset, I decided to solve the classification problem (whether a wine is good or bad) based on the available features. I decided to use the white variant because it is a larger dataset and I think we can get a better result. "
   ]
  },
  {
   "cell_type": "code",
   "execution_count": 44,
   "metadata": {},
   "outputs": [],
   "source": [
    "#first we load the data using pandas\n",
    "import pandas as pd \n",
    "\n",
    "df = pd.read_csv('winequality-white.csv', delimiter=\";\")"
   ]
  },
  {
   "cell_type": "code",
   "execution_count": 3,
   "metadata": {},
   "outputs": [
    {
     "name": "stdout",
     "output_type": "stream",
     "text": [
      "<class 'pandas.core.frame.DataFrame'>\n",
      "RangeIndex: 4898 entries, 0 to 4897\n",
      "Data columns (total 12 columns):\n",
      " #   Column                Non-Null Count  Dtype  \n",
      "---  ------                --------------  -----  \n",
      " 0   fixed acidity         4898 non-null   float64\n",
      " 1   volatile acidity      4898 non-null   float64\n",
      " 2   citric acid           4898 non-null   float64\n",
      " 3   residual sugar        4898 non-null   float64\n",
      " 4   chlorides             4898 non-null   float64\n",
      " 5   free sulfur dioxide   4898 non-null   float64\n",
      " 6   total sulfur dioxide  4898 non-null   float64\n",
      " 7   density               4898 non-null   float64\n",
      " 8   pH                    4898 non-null   float64\n",
      " 9   sulphates             4898 non-null   float64\n",
      " 10  alcohol               4898 non-null   float64\n",
      " 11  quality               4898 non-null   int64  \n",
      "dtypes: float64(11), int64(1)\n",
      "memory usage: 459.3 KB\n"
     ]
    }
   ],
   "source": [
    "#we can get some first insight of the data using df.info\n",
    "df.info()"
   ]
  },
  {
   "attachments": {},
   "cell_type": "markdown",
   "metadata": {},
   "source": [
    "As we can see, there are 12 variables. For our problem, the target variable will be a slight variation of the quality variable (instead of int we will use good or bad).\n",
    "Now let's do some exploratory analysis of the other 11 variables. All variables are float or int, so it looks like we won't have to do much preprocessing (like one-hot-encoding str variables)."
   ]
  },
  {
   "cell_type": "code",
   "execution_count": 4,
   "metadata": {},
   "outputs": [
    {
     "data": {
      "text/html": [
       "<div>\n",
       "<style scoped>\n",
       "    .dataframe tbody tr th:only-of-type {\n",
       "        vertical-align: middle;\n",
       "    }\n",
       "\n",
       "    .dataframe tbody tr th {\n",
       "        vertical-align: top;\n",
       "    }\n",
       "\n",
       "    .dataframe thead th {\n",
       "        text-align: right;\n",
       "    }\n",
       "</style>\n",
       "<table border=\"1\" class=\"dataframe\">\n",
       "  <thead>\n",
       "    <tr style=\"text-align: right;\">\n",
       "      <th></th>\n",
       "      <th>fixed acidity</th>\n",
       "      <th>volatile acidity</th>\n",
       "      <th>citric acid</th>\n",
       "      <th>residual sugar</th>\n",
       "      <th>chlorides</th>\n",
       "      <th>free sulfur dioxide</th>\n",
       "      <th>total sulfur dioxide</th>\n",
       "      <th>density</th>\n",
       "      <th>pH</th>\n",
       "      <th>sulphates</th>\n",
       "      <th>alcohol</th>\n",
       "      <th>quality</th>\n",
       "    </tr>\n",
       "  </thead>\n",
       "  <tbody>\n",
       "    <tr>\n",
       "      <th>count</th>\n",
       "      <td>4898.000000</td>\n",
       "      <td>4898.000000</td>\n",
       "      <td>4898.000000</td>\n",
       "      <td>4898.000000</td>\n",
       "      <td>4898.000000</td>\n",
       "      <td>4898.000000</td>\n",
       "      <td>4898.000000</td>\n",
       "      <td>4898.000000</td>\n",
       "      <td>4898.000000</td>\n",
       "      <td>4898.000000</td>\n",
       "      <td>4898.000000</td>\n",
       "      <td>4898.000000</td>\n",
       "    </tr>\n",
       "    <tr>\n",
       "      <th>mean</th>\n",
       "      <td>6.854788</td>\n",
       "      <td>0.278241</td>\n",
       "      <td>0.334192</td>\n",
       "      <td>6.391415</td>\n",
       "      <td>0.045772</td>\n",
       "      <td>35.308085</td>\n",
       "      <td>138.360657</td>\n",
       "      <td>0.994027</td>\n",
       "      <td>3.188267</td>\n",
       "      <td>0.489847</td>\n",
       "      <td>10.514267</td>\n",
       "      <td>5.877909</td>\n",
       "    </tr>\n",
       "    <tr>\n",
       "      <th>std</th>\n",
       "      <td>0.843868</td>\n",
       "      <td>0.100795</td>\n",
       "      <td>0.121020</td>\n",
       "      <td>5.072058</td>\n",
       "      <td>0.021848</td>\n",
       "      <td>17.007137</td>\n",
       "      <td>42.498065</td>\n",
       "      <td>0.002991</td>\n",
       "      <td>0.151001</td>\n",
       "      <td>0.114126</td>\n",
       "      <td>1.230621</td>\n",
       "      <td>0.885639</td>\n",
       "    </tr>\n",
       "    <tr>\n",
       "      <th>min</th>\n",
       "      <td>3.800000</td>\n",
       "      <td>0.080000</td>\n",
       "      <td>0.000000</td>\n",
       "      <td>0.600000</td>\n",
       "      <td>0.009000</td>\n",
       "      <td>2.000000</td>\n",
       "      <td>9.000000</td>\n",
       "      <td>0.987110</td>\n",
       "      <td>2.720000</td>\n",
       "      <td>0.220000</td>\n",
       "      <td>8.000000</td>\n",
       "      <td>3.000000</td>\n",
       "    </tr>\n",
       "    <tr>\n",
       "      <th>25%</th>\n",
       "      <td>6.300000</td>\n",
       "      <td>0.210000</td>\n",
       "      <td>0.270000</td>\n",
       "      <td>1.700000</td>\n",
       "      <td>0.036000</td>\n",
       "      <td>23.000000</td>\n",
       "      <td>108.000000</td>\n",
       "      <td>0.991723</td>\n",
       "      <td>3.090000</td>\n",
       "      <td>0.410000</td>\n",
       "      <td>9.500000</td>\n",
       "      <td>5.000000</td>\n",
       "    </tr>\n",
       "    <tr>\n",
       "      <th>50%</th>\n",
       "      <td>6.800000</td>\n",
       "      <td>0.260000</td>\n",
       "      <td>0.320000</td>\n",
       "      <td>5.200000</td>\n",
       "      <td>0.043000</td>\n",
       "      <td>34.000000</td>\n",
       "      <td>134.000000</td>\n",
       "      <td>0.993740</td>\n",
       "      <td>3.180000</td>\n",
       "      <td>0.470000</td>\n",
       "      <td>10.400000</td>\n",
       "      <td>6.000000</td>\n",
       "    </tr>\n",
       "    <tr>\n",
       "      <th>75%</th>\n",
       "      <td>7.300000</td>\n",
       "      <td>0.320000</td>\n",
       "      <td>0.390000</td>\n",
       "      <td>9.900000</td>\n",
       "      <td>0.050000</td>\n",
       "      <td>46.000000</td>\n",
       "      <td>167.000000</td>\n",
       "      <td>0.996100</td>\n",
       "      <td>3.280000</td>\n",
       "      <td>0.550000</td>\n",
       "      <td>11.400000</td>\n",
       "      <td>6.000000</td>\n",
       "    </tr>\n",
       "    <tr>\n",
       "      <th>max</th>\n",
       "      <td>14.200000</td>\n",
       "      <td>1.100000</td>\n",
       "      <td>1.660000</td>\n",
       "      <td>65.800000</td>\n",
       "      <td>0.346000</td>\n",
       "      <td>289.000000</td>\n",
       "      <td>440.000000</td>\n",
       "      <td>1.038980</td>\n",
       "      <td>3.820000</td>\n",
       "      <td>1.080000</td>\n",
       "      <td>14.200000</td>\n",
       "      <td>9.000000</td>\n",
       "    </tr>\n",
       "  </tbody>\n",
       "</table>\n",
       "</div>"
      ],
      "text/plain": [
       "       fixed acidity  volatile acidity  citric acid  residual sugar  \\\n",
       "count    4898.000000       4898.000000  4898.000000     4898.000000   \n",
       "mean        6.854788          0.278241     0.334192        6.391415   \n",
       "std         0.843868          0.100795     0.121020        5.072058   \n",
       "min         3.800000          0.080000     0.000000        0.600000   \n",
       "25%         6.300000          0.210000     0.270000        1.700000   \n",
       "50%         6.800000          0.260000     0.320000        5.200000   \n",
       "75%         7.300000          0.320000     0.390000        9.900000   \n",
       "max        14.200000          1.100000     1.660000       65.800000   \n",
       "\n",
       "         chlorides  free sulfur dioxide  total sulfur dioxide      density  \\\n",
       "count  4898.000000          4898.000000           4898.000000  4898.000000   \n",
       "mean      0.045772            35.308085            138.360657     0.994027   \n",
       "std       0.021848            17.007137             42.498065     0.002991   \n",
       "min       0.009000             2.000000              9.000000     0.987110   \n",
       "25%       0.036000            23.000000            108.000000     0.991723   \n",
       "50%       0.043000            34.000000            134.000000     0.993740   \n",
       "75%       0.050000            46.000000            167.000000     0.996100   \n",
       "max       0.346000           289.000000            440.000000     1.038980   \n",
       "\n",
       "                pH    sulphates      alcohol      quality  \n",
       "count  4898.000000  4898.000000  4898.000000  4898.000000  \n",
       "mean      3.188267     0.489847    10.514267     5.877909  \n",
       "std       0.151001     0.114126     1.230621     0.885639  \n",
       "min       2.720000     0.220000     8.000000     3.000000  \n",
       "25%       3.090000     0.410000     9.500000     5.000000  \n",
       "50%       3.180000     0.470000    10.400000     6.000000  \n",
       "75%       3.280000     0.550000    11.400000     6.000000  \n",
       "max       3.820000     1.080000    14.200000     9.000000  "
      ]
     },
     "execution_count": 4,
     "metadata": {},
     "output_type": "execute_result"
    }
   ],
   "source": [
    "df.describe() #get some stats of the variables"
   ]
  },
  {
   "attachments": {},
   "cell_type": "markdown",
   "metadata": {},
   "source": [
    "Apart from the stats I think that plotting an histogram for some of this variables will be useful. For example, we have to decide a threshold as to when a wine is good or bad. We could use the approach of saying that the from a quality of 6 onwards a wine is good, but I'd like to have data to support such a decision. "
   ]
  },
  {
   "cell_type": "code",
   "execution_count": 6,
   "metadata": {},
   "outputs": [
    {
     "data": {
      "text/plain": [
       "<AxesSubplot:xlabel='quality', ylabel='Count'>"
      ]
     },
     "execution_count": 6,
     "metadata": {},
     "output_type": "execute_result"
    },
    {
     "data": {
      "image/png": "[encoded data removed]",
      "text/plain": [
       "<Figure size 432x288 with 1 Axes>"
      ]
     },
     "metadata": {
      "needs_background": "light"
     },
     "output_type": "display_data"
    }
   ],
   "source": [
    "import seaborn as sns\n",
    "import matplotlib.pyplot as plt\n",
    "%matplotlib inline\n",
    "\n",
    "#plotting the distribution of quality scores\n",
    "sns.histplot(df['quality'])"
   ]
  },
  {
   "attachments": {},
   "cell_type": "markdown",
   "metadata": {},
   "source": [
    "Looking at the distribution of quality scores, I think that we can use 6 as a threshold. If the quality score of a wine is above 6 (>6) I will define that as a good wine, if it is 6 or below (<=6) I will define as a bad wine. \n",
    "\n",
    "The idea behind this threshold is that the \"good\" label should we exclusive to the best wines. If we set the threshold lower, lets say 5, the majority of wines would be classified as good which misses the point of exclusivity. If we set the threshold higher, lets say 7, we make it too exclusive and we may have very few samples to work with. So I think that 6 is a good compromise between exclusivity and having enough samples to work with."
   ]
  },
  {
   "attachments": {},
   "cell_type": "markdown",
   "metadata": {},
   "source": [
    "Now let's see how our different variables affect quality. For that we can plot a barplot for each variable, where x variable is quality and y is the variable we are analysing. "
   ]
  },
  {
   "cell_type": "code",
   "execution_count": 7,
   "metadata": {},
   "outputs": [
    {
     "data": {
      "text/plain": [
       "<AxesSubplot:xlabel='quality', ylabel='fixed acidity'>"
      ]
     },
     "execution_count": 7,
     "metadata": {},
     "output_type": "execute_result"
    },
    {
     "data": {
      "image/png": "[encoded data removed]",
      "text/plain": [
       "<Figure size 432x288 with 1 Axes>"
      ]
     },
     "metadata": {
      "needs_background": "light"
     },
     "output_type": "display_data"
    }
   ],
   "source": [
    "sns.barplot(x = 'quality', y = 'fixed acidity', data = df)"
   ]
  },
  {
   "attachments": {},
   "cell_type": "markdown",
   "metadata": {},
   "source": [
    "We see that as quality increases, fixed acidity tends to get lower. For quality 3 and 9 we have to be aware that we have fewer samples so our estimation may not be as accurate (hence the bigger whiskers)"
   ]
  },
  {
   "cell_type": "code",
   "execution_count": 8,
   "metadata": {},
   "outputs": [
    {
     "data": {
      "text/plain": [
       "<AxesSubplot:xlabel='quality', ylabel='volatile acidity'>"
      ]
     },
     "execution_count": 8,
     "metadata": {},
     "output_type": "execute_result"
    },
    {
     "data": {
      "image/png": "[encoded data removed]",
      "text/plain": [
       "<Figure size 432x288 with 1 Axes>"
      ]
     },
     "metadata": {
      "needs_background": "light"
     },
     "output_type": "display_data"
    }
   ],
   "source": [
    "sns.barplot(x = 'quality', y = 'volatile acidity', data = df)"
   ]
  },
  {
   "attachments": {},
   "cell_type": "markdown",
   "metadata": {},
   "source": [
    "With regards to volatile acidity, we can see that the lower the quality, the higher the volatile acidity is. In this case however, the trend is not as noticeable as with fixed acidity. We can see that as quality gets better, volatile acidity increases slightly, but not to levels as high as for quality <5. "
   ]
  },
  {
   "cell_type": "code",
   "execution_count": 9,
   "metadata": {},
   "outputs": [
    {
     "data": {
      "text/plain": [
       "<AxesSubplot:xlabel='quality', ylabel='citric acid'>"
      ]
     },
     "execution_count": 9,
     "metadata": {},
     "output_type": "execute_result"
    },
    {
     "data": {
      "image/png": "[encoded data removed]",
      "text/plain": [
       "<Figure size 432x288 with 1 Axes>"
      ]
     },
     "metadata": {
      "needs_background": "light"
     },
     "output_type": "display_data"
    }
   ],
   "source": [
    "sns.barplot(x = 'quality', y = 'citric acid', data = df)"
   ]
  },
  {
   "attachments": {},
   "cell_type": "markdown",
   "metadata": {},
   "source": [
    "For what we can see, citric acid alone doesn't play a big role in defining quality."
   ]
  },
  {
   "cell_type": "code",
   "execution_count": 10,
   "metadata": {},
   "outputs": [
    {
     "data": {
      "text/plain": [
       "<AxesSubplot:xlabel='quality', ylabel='residual sugar'>"
      ]
     },
     "execution_count": 10,
     "metadata": {},
     "output_type": "execute_result"
    },
    {
     "data": {
      "image/png": "[encoded data removed]",
      "text/plain": [
       "<Figure size 432x288 with 1 Axes>"
      ]
     },
     "metadata": {
      "needs_background": "light"
     },
     "output_type": "display_data"
    }
   ],
   "source": [
    "sns.barplot(x = 'quality', y = 'residual sugar', data = df)"
   ]
  },
  {
   "attachments": {},
   "cell_type": "markdown",
   "metadata": {},
   "source": [
    "We find similar results with residual sugar, there is not a clear trend."
   ]
  },
  {
   "cell_type": "code",
   "execution_count": 11,
   "metadata": {},
   "outputs": [
    {
     "data": {
      "text/plain": [
       "<AxesSubplot:xlabel='quality', ylabel='chlorides'>"
      ]
     },
     "execution_count": 11,
     "metadata": {},
     "output_type": "execute_result"
    },
    {
     "data": {
      "image/png": "[encoded data removed]",
      "text/plain": [
       "<Figure size 432x288 with 1 Axes>"
      ]
     },
     "metadata": {
      "needs_background": "light"
     },
     "output_type": "display_data"
    }
   ],
   "source": [
    "sns.barplot(x = 'quality', y = 'chlorides', data = df)"
   ]
  },
  {
   "attachments": {},
   "cell_type": "markdown",
   "metadata": {},
   "source": [
    "Here we find another interesting trend. It appears that the higher quality wines have lower chlorides."
   ]
  },
  {
   "cell_type": "code",
   "execution_count": 12,
   "metadata": {},
   "outputs": [
    {
     "data": {
      "text/plain": [
       "<AxesSubplot:xlabel='quality', ylabel='free sulfur dioxide'>"
      ]
     },
     "execution_count": 12,
     "metadata": {},
     "output_type": "execute_result"
    },
    {
     "data": {
      "image/png": "[encoded data removed]",
      "text/plain": [
       "<Figure size 432x288 with 1 Axes>"
      ]
     },
     "metadata": {
      "needs_background": "light"
     },
     "output_type": "display_data"
    }
   ],
   "source": [
    "sns.barplot(x = 'quality', y = 'free sulfur dioxide', data = df)"
   ]
  },
  {
   "attachments": {},
   "cell_type": "markdown",
   "metadata": {},
   "source": [
    "Once again not a clear trend. Despite the finding of lower free sulfur dioxide for wines with a quality of 4, it's not clear that free sulfur dioxide (alone) has a definitive answer for estimating quality."
   ]
  },
  {
   "cell_type": "code",
   "execution_count": 13,
   "metadata": {},
   "outputs": [
    {
     "data": {
      "text/plain": [
       "<AxesSubplot:xlabel='quality', ylabel='total sulfur dioxide'>"
      ]
     },
     "execution_count": 13,
     "metadata": {},
     "output_type": "execute_result"
    },
    {
     "data": {
      "image/png": "[encoded data removed]",
      "text/plain": [
       "<Figure size 432x288 with 1 Axes>"
      ]
     },
     "metadata": {
      "needs_background": "light"
     },
     "output_type": "display_data"
    }
   ],
   "source": [
    "sns.barplot(x = 'quality', y = 'total sulfur dioxide', data = df)"
   ]
  },
  {
   "attachments": {},
   "cell_type": "markdown",
   "metadata": {},
   "source": [
    "Total sulfur dioxide shows a similar behaviour. (by its name I suspect this 2 variables may be highly correlated but we will find out later)"
   ]
  },
  {
   "cell_type": "code",
   "execution_count": 14,
   "metadata": {},
   "outputs": [
    {
     "data": {
      "text/plain": [
       "<AxesSubplot:xlabel='quality', ylabel='density'>"
      ]
     },
     "execution_count": 14,
     "metadata": {},
     "output_type": "execute_result"
    },
    {
     "data": {
      "image/png": "[encoded data removed]",
      "text/plain": [
       "<Figure size 432x288 with 1 Axes>"
      ]
     },
     "metadata": {
      "needs_background": "light"
     },
     "output_type": "display_data"
    }
   ],
   "source": [
    "sns.barplot(x = 'quality', y = 'density', data = df)"
   ]
  },
  {
   "attachments": {},
   "cell_type": "markdown",
   "metadata": {},
   "source": [
    "It is clear that regarding density there is no significative difference for different quality scores."
   ]
  },
  {
   "cell_type": "code",
   "execution_count": 15,
   "metadata": {},
   "outputs": [
    {
     "data": {
      "text/plain": [
       "<AxesSubplot:xlabel='quality', ylabel='pH'>"
      ]
     },
     "execution_count": 15,
     "metadata": {},
     "output_type": "execute_result"
    },
    {
     "data": {
      "image/png": "[encoded data removed]",
      "text/plain": [
       "<Figure size 432x288 with 1 Axes>"
      ]
     },
     "metadata": {
      "needs_background": "light"
     },
     "output_type": "display_data"
    }
   ],
   "source": [
    "sns.barplot(x = 'quality', y = 'pH', data = df)"
   ]
  },
  {
   "attachments": {},
   "cell_type": "markdown",
   "metadata": {},
   "source": [
    "Something similar happens with ph, altough one could argue that there is a slight trend to the upside as quality gets better."
   ]
  },
  {
   "cell_type": "code",
   "execution_count": 16,
   "metadata": {},
   "outputs": [
    {
     "data": {
      "text/plain": [
       "<AxesSubplot:xlabel='quality', ylabel='sulphates'>"
      ]
     },
     "execution_count": 16,
     "metadata": {},
     "output_type": "execute_result"
    },
    {
     "data": {
      "image/png": "[encoded data removed]",
      "text/plain": [
       "<Figure size 432x288 with 1 Axes>"
      ]
     },
     "metadata": {
      "needs_background": "light"
     },
     "output_type": "display_data"
    }
   ],
   "source": [
    "sns.barplot(x = 'quality', y = 'sulphates', data = df)"
   ]
  },
  {
   "attachments": {},
   "cell_type": "markdown",
   "metadata": {},
   "source": [
    "Not a significative difference with sulphates either."
   ]
  },
  {
   "cell_type": "code",
   "execution_count": 18,
   "metadata": {},
   "outputs": [
    {
     "data": {
      "text/plain": [
       "<AxesSubplot:xlabel='quality', ylabel='alcohol'>"
      ]
     },
     "execution_count": 18,
     "metadata": {},
     "output_type": "execute_result"
    },
    {
     "data": {
      "image/png": "[encoded data removed]",
      "text/plain": [
       "<Figure size 432x288 with 1 Axes>"
      ]
     },
     "metadata": {
      "needs_background": "light"
     },
     "output_type": "display_data"
    }
   ],
   "source": [
    "sns.barplot(x = 'quality', y = 'alcohol', data = df)"
   ]
  },
  {
   "attachments": {},
   "cell_type": "markdown",
   "metadata": {},
   "source": [
    "Lastly, it appears that as quality gets better, there is more alcohol present in wines. "
   ]
  },
  {
   "attachments": {},
   "cell_type": "markdown",
   "metadata": {},
   "source": [
    "Now let's plot the correlation matrix between our different variables."
   ]
  },
  {
   "cell_type": "code",
   "execution_count": 19,
   "metadata": {},
   "outputs": [
    {
     "name": "stderr",
     "output_type": "stream",
     "text": [
      "C:\\Users\\teleski\\AppData\\Local\\Temp\\ipykernel_13992\\2423870097.py:2: FutureWarning: this method is deprecated in favour of `Styler.format(precision=..)`\n",
      "  corr.style.background_gradient(cmap='coolwarm').set_precision(2)\n"
     ]
    },
    {
     "data": {
      "text/html": [
       "<style type=\"text/css\">\n",
       "#T_44b95_row0_col0, #T_44b95_row1_col1, #T_44b95_row2_col2, #T_44b95_row3_col3, #T_44b95_row4_col4, #T_44b95_row5_col5, #T_44b95_row6_col6, #T_44b95_row7_col7, #T_44b95_row8_col8, #T_44b95_row9_col9, #T_44b95_row10_col10, #T_44b95_row11_col11 {\n",
       "  background-color: #b40426;\n",
       "  color: #f1f1f1;\n",
       "}\n",
       "#T_44b95_row0_col1 {\n",
       "  background-color: #6788ee;\n",
       "  color: #f1f1f1;\n",
       "}\n",
       "#T_44b95_row0_col2 {\n",
       "  background-color: #bcd2f7;\n",
       "  color: #000000;\n",
       "}\n",
       "#T_44b95_row0_col3, #T_44b95_row0_col6, #T_44b95_row1_col6, #T_44b95_row4_col3 {\n",
       "  background-color: #b7cff9;\n",
       "  color: #000000;\n",
       "}\n",
       "#T_44b95_row0_col4, #T_44b95_row1_col0 {\n",
       "  background-color: #98b9ff;\n",
       "  color: #000000;\n",
       "}\n",
       "#T_44b95_row0_col5, #T_44b95_row3_col8, #T_44b95_row3_col11 {\n",
       "  background-color: #6e90f2;\n",
       "  color: #f1f1f1;\n",
       "}\n",
       "#T_44b95_row0_col7, #T_44b95_row3_col6, #T_44b95_row6_col3 {\n",
       "  background-color: #f0cdbb;\n",
       "  color: #000000;\n",
       "}\n",
       "#T_44b95_row0_col8, #T_44b95_row1_col9, #T_44b95_row7_col10, #T_44b95_row7_col11, #T_44b95_row8_col0, #T_44b95_row8_col2, #T_44b95_row10_col3, #T_44b95_row10_col4, #T_44b95_row10_col5, #T_44b95_row10_col6, #T_44b95_row10_col7, #T_44b95_row11_col1 {\n",
       "  background-color: #3b4cc0;\n",
       "  color: #f1f1f1;\n",
       "}\n",
       "#T_44b95_row0_col9, #T_44b95_row10_col9 {\n",
       "  background-color: #3f53c6;\n",
       "  color: #f1f1f1;\n",
       "}\n",
       "#T_44b95_row0_col10, #T_44b95_row11_col8 {\n",
       "  background-color: #b6cefa;\n",
       "  color: #000000;\n",
       "}\n",
       "#T_44b95_row0_col11 {\n",
       "  background-color: #688aef;\n",
       "  color: #f1f1f1;\n",
       "}\n",
       "#T_44b95_row1_col2 {\n",
       "  background-color: #3e51c5;\n",
       "  color: #f1f1f1;\n",
       "}\n",
       "#T_44b95_row1_col3 {\n",
       "  background-color: #b1cbfc;\n",
       "  color: #000000;\n",
       "}\n",
       "#T_44b95_row1_col4 {\n",
       "  background-color: #a5c3fe;\n",
       "  color: #000000;\n",
       "}\n",
       "#T_44b95_row1_col5 {\n",
       "  background-color: #6180e9;\n",
       "  color: #f1f1f1;\n",
       "}\n",
       "#T_44b95_row1_col7, #T_44b95_row7_col4 {\n",
       "  background-color: #d1dae9;\n",
       "  color: #000000;\n",
       "}\n",
       "#T_44b95_row1_col8, #T_44b95_row2_col5, #T_44b95_row9_col4, #T_44b95_row9_col11 {\n",
       "  background-color: #96b7ff;\n",
       "  color: #000000;\n",
       "}\n",
       "#T_44b95_row1_col10 {\n",
       "  background-color: #d6dce4;\n",
       "  color: #000000;\n",
       "}\n",
       "#T_44b95_row1_col11, #T_44b95_row11_col9 {\n",
       "  background-color: #5572df;\n",
       "  color: #f1f1f1;\n",
       "}\n",
       "#T_44b95_row2_col0 {\n",
       "  background-color: #dddcdc;\n",
       "  color: #000000;\n",
       "}\n",
       "#T_44b95_row2_col1 {\n",
       "  background-color: #455cce;\n",
       "  color: #f1f1f1;\n",
       "}\n",
       "#T_44b95_row2_col3 {\n",
       "  background-color: #b9d0f9;\n",
       "  color: #000000;\n",
       "}\n",
       "#T_44b95_row2_col4 {\n",
       "  background-color: #afcafc;\n",
       "  color: #000000;\n",
       "}\n",
       "#T_44b95_row2_col6 {\n",
       "  background-color: #bed2f6;\n",
       "  color: #000000;\n",
       "}\n",
       "#T_44b95_row2_col7 {\n",
       "  background-color: #e2dad5;\n",
       "  color: #000000;\n",
       "}\n",
       "#T_44b95_row2_col8, #T_44b95_row3_col10, #T_44b95_row6_col10, #T_44b95_row7_col1, #T_44b95_row8_col9 {\n",
       "  background-color: #7699f6;\n",
       "  color: #f1f1f1;\n",
       "}\n",
       "#T_44b95_row2_col9 {\n",
       "  background-color: #5875e1;\n",
       "  color: #f1f1f1;\n",
       "}\n",
       "#T_44b95_row2_col10 {\n",
       "  background-color: #bfd3f6;\n",
       "  color: #000000;\n",
       "}\n",
       "#T_44b95_row2_col11 {\n",
       "  background-color: #85a8fc;\n",
       "  color: #f1f1f1;\n",
       "}\n",
       "#T_44b95_row3_col0, #T_44b95_row6_col0 {\n",
       "  background-color: #b3cdfb;\n",
       "  color: #000000;\n",
       "}\n",
       "#T_44b95_row3_col1 {\n",
       "  background-color: #81a4fb;\n",
       "  color: #f1f1f1;\n",
       "}\n",
       "#T_44b95_row3_col2, #T_44b95_row4_col1, #T_44b95_row5_col2, #T_44b95_row10_col1, #T_44b95_row11_col0 {\n",
       "  background-color: #82a6fb;\n",
       "  color: #f1f1f1;\n",
       "}\n",
       "#T_44b95_row3_col4 {\n",
       "  background-color: #a9c6fd;\n",
       "  color: #000000;\n",
       "}\n",
       "#T_44b95_row3_col5 {\n",
       "  background-color: #ccd9ed;\n",
       "  color: #000000;\n",
       "}\n",
       "#T_44b95_row3_col7 {\n",
       "  background-color: #d44e41;\n",
       "  color: #f1f1f1;\n",
       "}\n",
       "#T_44b95_row3_col9 {\n",
       "  background-color: #3d50c3;\n",
       "  color: #f1f1f1;\n",
       "}\n",
       "#T_44b95_row4_col0 {\n",
       "  background-color: #a3c2fe;\n",
       "  color: #000000;\n",
       "}\n",
       "#T_44b95_row4_col2, #T_44b95_row5_col11 {\n",
       "  background-color: #89acfd;\n",
       "  color: #000000;\n",
       "}\n",
       "#T_44b95_row4_col5 {\n",
       "  background-color: #97b8ff;\n",
       "  color: #000000;\n",
       "}\n",
       "#T_44b95_row4_col6 {\n",
       "  background-color: #cedaeb;\n",
       "  color: #000000;\n",
       "}\n",
       "#T_44b95_row4_col7 {\n",
       "  background-color: #efcebd;\n",
       "  color: #000000;\n",
       "}\n",
       "#T_44b95_row4_col8, #T_44b95_row4_col10, #T_44b95_row6_col1 {\n",
       "  background-color: #88abfd;\n",
       "  color: #000000;\n",
       "}\n",
       "#T_44b95_row4_col9 {\n",
       "  background-color: #4961d2;\n",
       "  color: #f1f1f1;\n",
       "}\n",
       "#T_44b95_row4_col11, #T_44b95_row10_col2 {\n",
       "  background-color: #516ddb;\n",
       "  color: #f1f1f1;\n",
       "}\n",
       "#T_44b95_row5_col0 {\n",
       "  background-color: #92b4fe;\n",
       "  color: #000000;\n",
       "}\n",
       "#T_44b95_row5_col1 {\n",
       "  background-color: #536edd;\n",
       "  color: #f1f1f1;\n",
       "}\n",
       "#T_44b95_row5_col3 {\n",
       "  background-color: #e1dad6;\n",
       "  color: #000000;\n",
       "}\n",
       "#T_44b95_row5_col4 {\n",
       "  background-color: #abc8fd;\n",
       "  color: #000000;\n",
       "}\n",
       "#T_44b95_row5_col6, #T_44b95_row6_col7 {\n",
       "  background-color: #f59f80;\n",
       "  color: #000000;\n",
       "}\n",
       "#T_44b95_row5_col7 {\n",
       "  background-color: #f2cab5;\n",
       "  color: #000000;\n",
       "}\n",
       "#T_44b95_row5_col8, #T_44b95_row5_col10, #T_44b95_row6_col8 {\n",
       "  background-color: #9ebeff;\n",
       "  color: #000000;\n",
       "}\n",
       "#T_44b95_row5_col9 {\n",
       "  background-color: #5673e0;\n",
       "  color: #f1f1f1;\n",
       "}\n",
       "#T_44b95_row6_col2, #T_44b95_row11_col3 {\n",
       "  background-color: #8badfd;\n",
       "  color: #000000;\n",
       "}\n",
       "#T_44b95_row6_col4 {\n",
       "  background-color: #c4d5f3;\n",
       "  color: #000000;\n",
       "}\n",
       "#T_44b95_row6_col5 {\n",
       "  background-color: #f7af91;\n",
       "  color: #000000;\n",
       "}\n",
       "#T_44b95_row6_col9 {\n",
       "  background-color: #6f92f3;\n",
       "  color: #f1f1f1;\n",
       "}\n",
       "#T_44b95_row6_col11 {\n",
       "  background-color: #5977e3;\n",
       "  color: #f1f1f1;\n",
       "}\n",
       "#T_44b95_row7_col0 {\n",
       "  background-color: #d9dce1;\n",
       "  color: #000000;\n",
       "}\n",
       "#T_44b95_row7_col2, #T_44b95_row11_col7 {\n",
       "  background-color: #93b5fe;\n",
       "  color: #000000;\n",
       "}\n",
       "#T_44b95_row7_col3 {\n",
       "  background-color: #d95847;\n",
       "  color: #f1f1f1;\n",
       "}\n",
       "#T_44b95_row7_col5 {\n",
       "  background-color: #cbd8ee;\n",
       "  color: #000000;\n",
       "}\n",
       "#T_44b95_row7_col6 {\n",
       "  background-color: #f7b599;\n",
       "  color: #000000;\n",
       "}\n",
       "#T_44b95_row7_col8 {\n",
       "  background-color: #86a9fc;\n",
       "  color: #f1f1f1;\n",
       "}\n",
       "#T_44b95_row7_col9 {\n",
       "  background-color: #5b7ae5;\n",
       "  color: #f1f1f1;\n",
       "}\n",
       "#T_44b95_row8_col1, #T_44b95_row9_col1 {\n",
       "  background-color: #6485ec;\n",
       "  color: #f1f1f1;\n",
       "}\n",
       "#T_44b95_row8_col3 {\n",
       "  background-color: #7396f5;\n",
       "  color: #f1f1f1;\n",
       "}\n",
       "#T_44b95_row8_col4 {\n",
       "  background-color: #7a9df8;\n",
       "  color: #f1f1f1;\n",
       "}\n",
       "#T_44b95_row8_col5 {\n",
       "  background-color: #7b9ff9;\n",
       "  color: #f1f1f1;\n",
       "}\n",
       "#T_44b95_row8_col6, #T_44b95_row8_col11 {\n",
       "  background-color: #a2c1ff;\n",
       "  color: #000000;\n",
       "}\n",
       "#T_44b95_row8_col7, #T_44b95_row10_col8 {\n",
       "  background-color: #bbd1f8;\n",
       "  color: #000000;\n",
       "}\n",
       "#T_44b95_row8_col10 {\n",
       "  background-color: #dedcdb;\n",
       "  color: #000000;\n",
       "}\n",
       "#T_44b95_row9_col0 {\n",
       "  background-color: #9abbff;\n",
       "  color: #000000;\n",
       "}\n",
       "#T_44b95_row9_col2 {\n",
       "  background-color: #799cf8;\n",
       "  color: #f1f1f1;\n",
       "}\n",
       "#T_44b95_row9_col3 {\n",
       "  background-color: #9bbcff;\n",
       "  color: #000000;\n",
       "}\n",
       "#T_44b95_row9_col5 {\n",
       "  background-color: #8caffe;\n",
       "  color: #000000;\n",
       "}\n",
       "#T_44b95_row9_col6 {\n",
       "  background-color: #c1d4f4;\n",
       "  color: #000000;\n",
       "}\n",
       "#T_44b95_row9_col7 {\n",
       "  background-color: #d7dce3;\n",
       "  color: #000000;\n",
       "}\n",
       "#T_44b95_row9_col8 {\n",
       "  background-color: #c3d5f4;\n",
       "  color: #000000;\n",
       "}\n",
       "#T_44b95_row9_col10 {\n",
       "  background-color: #c9d7f0;\n",
       "  color: #000000;\n",
       "}\n",
       "#T_44b95_row10_col0 {\n",
       "  background-color: #80a3fa;\n",
       "  color: #f1f1f1;\n",
       "}\n",
       "#T_44b95_row10_col11 {\n",
       "  background-color: #edd2c3;\n",
       "  color: #000000;\n",
       "}\n",
       "#T_44b95_row11_col2 {\n",
       "  background-color: #6384eb;\n",
       "  color: #f1f1f1;\n",
       "}\n",
       "#T_44b95_row11_col4 {\n",
       "  background-color: #5d7ce6;\n",
       "  color: #f1f1f1;\n",
       "}\n",
       "#T_44b95_row11_col5 {\n",
       "  background-color: #7da0f9;\n",
       "  color: #f1f1f1;\n",
       "}\n",
       "#T_44b95_row11_col6 {\n",
       "  background-color: #779af7;\n",
       "  color: #f1f1f1;\n",
       "}\n",
       "#T_44b95_row11_col10 {\n",
       "  background-color: #f7b396;\n",
       "  color: #000000;\n",
       "}\n",
       "</style>\n",
       "<table id=\"T_44b95\">\n",
       "  <thead>\n",
       "    <tr>\n",
       "      <th class=\"blank level0\" >&nbsp;</th>\n",
       "      <th id=\"T_44b95_level0_col0\" class=\"col_heading level0 col0\" >fixed acidity</th>\n",
       "      <th id=\"T_44b95_level0_col1\" class=\"col_heading level0 col1\" >volatile acidity</th>\n",
       "      <th id=\"T_44b95_level0_col2\" class=\"col_heading level0 col2\" >citric acid</th>\n",
       "      <th id=\"T_44b95_level0_col3\" class=\"col_heading level0 col3\" >residual sugar</th>\n",
       "      <th id=\"T_44b95_level0_col4\" class=\"col_heading level0 col4\" >chlorides</th>\n",
       "      <th id=\"T_44b95_level0_col5\" class=\"col_heading level0 col5\" >free sulfur dioxide</th>\n",
       "      <th id=\"T_44b95_level0_col6\" class=\"col_heading level0 col6\" >total sulfur dioxide</th>\n",
       "      <th id=\"T_44b95_level0_col7\" class=\"col_heading level0 col7\" >density</th>\n",
       "      <th id=\"T_44b95_level0_col8\" class=\"col_heading level0 col8\" >pH</th>\n",
       "      <th id=\"T_44b95_level0_col9\" class=\"col_heading level0 col9\" >sulphates</th>\n",
       "      <th id=\"T_44b95_level0_col10\" class=\"col_heading level0 col10\" >alcohol</th>\n",
       "      <th id=\"T_44b95_level0_col11\" class=\"col_heading level0 col11\" >quality</th>\n",
       "    </tr>\n",
       "  </thead>\n",
       "  <tbody>\n",
       "    <tr>\n",
       "      <th id=\"T_44b95_level0_row0\" class=\"row_heading level0 row0\" >fixed acidity</th>\n",
       "      <td id=\"T_44b95_row0_col0\" class=\"data row0 col0\" >1.00</td>\n",
       "      <td id=\"T_44b95_row0_col1\" class=\"data row0 col1\" >-0.02</td>\n",
       "      <td id=\"T_44b95_row0_col2\" class=\"data row0 col2\" >0.29</td>\n",
       "      <td id=\"T_44b95_row0_col3\" class=\"data row0 col3\" >0.09</td>\n",
       "      <td id=\"T_44b95_row0_col4\" class=\"data row0 col4\" >0.02</td>\n",
       "      <td id=\"T_44b95_row0_col5\" class=\"data row0 col5\" >-0.05</td>\n",
       "      <td id=\"T_44b95_row0_col6\" class=\"data row0 col6\" >0.09</td>\n",
       "      <td id=\"T_44b95_row0_col7\" class=\"data row0 col7\" >0.27</td>\n",
       "      <td id=\"T_44b95_row0_col8\" class=\"data row0 col8\" >-0.43</td>\n",
       "      <td id=\"T_44b95_row0_col9\" class=\"data row0 col9\" >-0.02</td>\n",
       "      <td id=\"T_44b95_row0_col10\" class=\"data row0 col10\" >-0.12</td>\n",
       "      <td id=\"T_44b95_row0_col11\" class=\"data row0 col11\" >-0.11</td>\n",
       "    </tr>\n",
       "    <tr>\n",
       "      <th id=\"T_44b95_level0_row1\" class=\"row_heading level0 row1\" >volatile acidity</th>\n",
       "      <td id=\"T_44b95_row1_col0\" class=\"data row1 col0\" >-0.02</td>\n",
       "      <td id=\"T_44b95_row1_col1\" class=\"data row1 col1\" >1.00</td>\n",
       "      <td id=\"T_44b95_row1_col2\" class=\"data row1 col2\" >-0.15</td>\n",
       "      <td id=\"T_44b95_row1_col3\" class=\"data row1 col3\" >0.06</td>\n",
       "      <td id=\"T_44b95_row1_col4\" class=\"data row1 col4\" >0.07</td>\n",
       "      <td id=\"T_44b95_row1_col5\" class=\"data row1 col5\" >-0.10</td>\n",
       "      <td id=\"T_44b95_row1_col6\" class=\"data row1 col6\" >0.09</td>\n",
       "      <td id=\"T_44b95_row1_col7\" class=\"data row1 col7\" >0.03</td>\n",
       "      <td id=\"T_44b95_row1_col8\" class=\"data row1 col8\" >-0.03</td>\n",
       "      <td id=\"T_44b95_row1_col9\" class=\"data row1 col9\" >-0.04</td>\n",
       "      <td id=\"T_44b95_row1_col10\" class=\"data row1 col10\" >0.07</td>\n",
       "      <td id=\"T_44b95_row1_col11\" class=\"data row1 col11\" >-0.19</td>\n",
       "    </tr>\n",
       "    <tr>\n",
       "      <th id=\"T_44b95_level0_row2\" class=\"row_heading level0 row2\" >citric acid</th>\n",
       "      <td id=\"T_44b95_row2_col0\" class=\"data row2 col0\" >0.29</td>\n",
       "      <td id=\"T_44b95_row2_col1\" class=\"data row2 col1\" >-0.15</td>\n",
       "      <td id=\"T_44b95_row2_col2\" class=\"data row2 col2\" >1.00</td>\n",
       "      <td id=\"T_44b95_row2_col3\" class=\"data row2 col3\" >0.09</td>\n",
       "      <td id=\"T_44b95_row2_col4\" class=\"data row2 col4\" >0.11</td>\n",
       "      <td id=\"T_44b95_row2_col5\" class=\"data row2 col5\" >0.09</td>\n",
       "      <td id=\"T_44b95_row2_col6\" class=\"data row2 col6\" >0.12</td>\n",
       "      <td id=\"T_44b95_row2_col7\" class=\"data row2 col7\" >0.15</td>\n",
       "      <td id=\"T_44b95_row2_col8\" class=\"data row2 col8\" >-0.16</td>\n",
       "      <td id=\"T_44b95_row2_col9\" class=\"data row2 col9\" >0.06</td>\n",
       "      <td id=\"T_44b95_row2_col10\" class=\"data row2 col10\" >-0.08</td>\n",
       "      <td id=\"T_44b95_row2_col11\" class=\"data row2 col11\" >-0.01</td>\n",
       "    </tr>\n",
       "    <tr>\n",
       "      <th id=\"T_44b95_level0_row3\" class=\"row_heading level0 row3\" >residual sugar</th>\n",
       "      <td id=\"T_44b95_row3_col0\" class=\"data row3 col0\" >0.09</td>\n",
       "      <td id=\"T_44b95_row3_col1\" class=\"data row3 col1\" >0.06</td>\n",
       "      <td id=\"T_44b95_row3_col2\" class=\"data row3 col2\" >0.09</td>\n",
       "      <td id=\"T_44b95_row3_col3\" class=\"data row3 col3\" >1.00</td>\n",
       "      <td id=\"T_44b95_row3_col4\" class=\"data row3 col4\" >0.09</td>\n",
       "      <td id=\"T_44b95_row3_col5\" class=\"data row3 col5\" >0.30</td>\n",
       "      <td id=\"T_44b95_row3_col6\" class=\"data row3 col6\" >0.40</td>\n",
       "      <td id=\"T_44b95_row3_col7\" class=\"data row3 col7\" >0.84</td>\n",
       "      <td id=\"T_44b95_row3_col8\" class=\"data row3 col8\" >-0.19</td>\n",
       "      <td id=\"T_44b95_row3_col9\" class=\"data row3 col9\" >-0.03</td>\n",
       "      <td id=\"T_44b95_row3_col10\" class=\"data row3 col10\" >-0.45</td>\n",
       "      <td id=\"T_44b95_row3_col11\" class=\"data row3 col11\" >-0.10</td>\n",
       "    </tr>\n",
       "    <tr>\n",
       "      <th id=\"T_44b95_level0_row4\" class=\"row_heading level0 row4\" >chlorides</th>\n",
       "      <td id=\"T_44b95_row4_col0\" class=\"data row4 col0\" >0.02</td>\n",
       "      <td id=\"T_44b95_row4_col1\" class=\"data row4 col1\" >0.07</td>\n",
       "      <td id=\"T_44b95_row4_col2\" class=\"data row4 col2\" >0.11</td>\n",
       "      <td id=\"T_44b95_row4_col3\" class=\"data row4 col3\" >0.09</td>\n",
       "      <td id=\"T_44b95_row4_col4\" class=\"data row4 col4\" >1.00</td>\n",
       "      <td id=\"T_44b95_row4_col5\" class=\"data row4 col5\" >0.10</td>\n",
       "      <td id=\"T_44b95_row4_col6\" class=\"data row4 col6\" >0.20</td>\n",
       "      <td id=\"T_44b95_row4_col7\" class=\"data row4 col7\" >0.26</td>\n",
       "      <td id=\"T_44b95_row4_col8\" class=\"data row4 col8\" >-0.09</td>\n",
       "      <td id=\"T_44b95_row4_col9\" class=\"data row4 col9\" >0.02</td>\n",
       "      <td id=\"T_44b95_row4_col10\" class=\"data row4 col10\" >-0.36</td>\n",
       "      <td id=\"T_44b95_row4_col11\" class=\"data row4 col11\" >-0.21</td>\n",
       "    </tr>\n",
       "    <tr>\n",
       "      <th id=\"T_44b95_level0_row5\" class=\"row_heading level0 row5\" >free sulfur dioxide</th>\n",
       "      <td id=\"T_44b95_row5_col0\" class=\"data row5 col0\" >-0.05</td>\n",
       "      <td id=\"T_44b95_row5_col1\" class=\"data row5 col1\" >-0.10</td>\n",
       "      <td id=\"T_44b95_row5_col2\" class=\"data row5 col2\" >0.09</td>\n",
       "      <td id=\"T_44b95_row5_col3\" class=\"data row5 col3\" >0.30</td>\n",
       "      <td id=\"T_44b95_row5_col4\" class=\"data row5 col4\" >0.10</td>\n",
       "      <td id=\"T_44b95_row5_col5\" class=\"data row5 col5\" >1.00</td>\n",
       "      <td id=\"T_44b95_row5_col6\" class=\"data row5 col6\" >0.62</td>\n",
       "      <td id=\"T_44b95_row5_col7\" class=\"data row5 col7\" >0.29</td>\n",
       "      <td id=\"T_44b95_row5_col8\" class=\"data row5 col8\" >-0.00</td>\n",
       "      <td id=\"T_44b95_row5_col9\" class=\"data row5 col9\" >0.06</td>\n",
       "      <td id=\"T_44b95_row5_col10\" class=\"data row5 col10\" >-0.25</td>\n",
       "      <td id=\"T_44b95_row5_col11\" class=\"data row5 col11\" >0.01</td>\n",
       "    </tr>\n",
       "    <tr>\n",
       "      <th id=\"T_44b95_level0_row6\" class=\"row_heading level0 row6\" >total sulfur dioxide</th>\n",
       "      <td id=\"T_44b95_row6_col0\" class=\"data row6 col0\" >0.09</td>\n",
       "      <td id=\"T_44b95_row6_col1\" class=\"data row6 col1\" >0.09</td>\n",
       "      <td id=\"T_44b95_row6_col2\" class=\"data row6 col2\" >0.12</td>\n",
       "      <td id=\"T_44b95_row6_col3\" class=\"data row6 col3\" >0.40</td>\n",
       "      <td id=\"T_44b95_row6_col4\" class=\"data row6 col4\" >0.20</td>\n",
       "      <td id=\"T_44b95_row6_col5\" class=\"data row6 col5\" >0.62</td>\n",
       "      <td id=\"T_44b95_row6_col6\" class=\"data row6 col6\" >1.00</td>\n",
       "      <td id=\"T_44b95_row6_col7\" class=\"data row6 col7\" >0.53</td>\n",
       "      <td id=\"T_44b95_row6_col8\" class=\"data row6 col8\" >0.00</td>\n",
       "      <td id=\"T_44b95_row6_col9\" class=\"data row6 col9\" >0.13</td>\n",
       "      <td id=\"T_44b95_row6_col10\" class=\"data row6 col10\" >-0.45</td>\n",
       "      <td id=\"T_44b95_row6_col11\" class=\"data row6 col11\" >-0.17</td>\n",
       "    </tr>\n",
       "    <tr>\n",
       "      <th id=\"T_44b95_level0_row7\" class=\"row_heading level0 row7\" >density</th>\n",
       "      <td id=\"T_44b95_row7_col0\" class=\"data row7 col0\" >0.27</td>\n",
       "      <td id=\"T_44b95_row7_col1\" class=\"data row7 col1\" >0.03</td>\n",
       "      <td id=\"T_44b95_row7_col2\" class=\"data row7 col2\" >0.15</td>\n",
       "      <td id=\"T_44b95_row7_col3\" class=\"data row7 col3\" >0.84</td>\n",
       "      <td id=\"T_44b95_row7_col4\" class=\"data row7 col4\" >0.26</td>\n",
       "      <td id=\"T_44b95_row7_col5\" class=\"data row7 col5\" >0.29</td>\n",
       "      <td id=\"T_44b95_row7_col6\" class=\"data row7 col6\" >0.53</td>\n",
       "      <td id=\"T_44b95_row7_col7\" class=\"data row7 col7\" >1.00</td>\n",
       "      <td id=\"T_44b95_row7_col8\" class=\"data row7 col8\" >-0.09</td>\n",
       "      <td id=\"T_44b95_row7_col9\" class=\"data row7 col9\" >0.07</td>\n",
       "      <td id=\"T_44b95_row7_col10\" class=\"data row7 col10\" >-0.78</td>\n",
       "      <td id=\"T_44b95_row7_col11\" class=\"data row7 col11\" >-0.31</td>\n",
       "    </tr>\n",
       "    <tr>\n",
       "      <th id=\"T_44b95_level0_row8\" class=\"row_heading level0 row8\" >pH</th>\n",
       "      <td id=\"T_44b95_row8_col0\" class=\"data row8 col0\" >-0.43</td>\n",
       "      <td id=\"T_44b95_row8_col1\" class=\"data row8 col1\" >-0.03</td>\n",
       "      <td id=\"T_44b95_row8_col2\" class=\"data row8 col2\" >-0.16</td>\n",
       "      <td id=\"T_44b95_row8_col3\" class=\"data row8 col3\" >-0.19</td>\n",
       "      <td id=\"T_44b95_row8_col4\" class=\"data row8 col4\" >-0.09</td>\n",
       "      <td id=\"T_44b95_row8_col5\" class=\"data row8 col5\" >-0.00</td>\n",
       "      <td id=\"T_44b95_row8_col6\" class=\"data row8 col6\" >0.00</td>\n",
       "      <td id=\"T_44b95_row8_col7\" class=\"data row8 col7\" >-0.09</td>\n",
       "      <td id=\"T_44b95_row8_col8\" class=\"data row8 col8\" >1.00</td>\n",
       "      <td id=\"T_44b95_row8_col9\" class=\"data row8 col9\" >0.16</td>\n",
       "      <td id=\"T_44b95_row8_col10\" class=\"data row8 col10\" >0.12</td>\n",
       "      <td id=\"T_44b95_row8_col11\" class=\"data row8 col11\" >0.10</td>\n",
       "    </tr>\n",
       "    <tr>\n",
       "      <th id=\"T_44b95_level0_row9\" class=\"row_heading level0 row9\" >sulphates</th>\n",
       "      <td id=\"T_44b95_row9_col0\" class=\"data row9 col0\" >-0.02</td>\n",
       "      <td id=\"T_44b95_row9_col1\" class=\"data row9 col1\" >-0.04</td>\n",
       "      <td id=\"T_44b95_row9_col2\" class=\"data row9 col2\" >0.06</td>\n",
       "      <td id=\"T_44b95_row9_col3\" class=\"data row9 col3\" >-0.03</td>\n",
       "      <td id=\"T_44b95_row9_col4\" class=\"data row9 col4\" >0.02</td>\n",
       "      <td id=\"T_44b95_row9_col5\" class=\"data row9 col5\" >0.06</td>\n",
       "      <td id=\"T_44b95_row9_col6\" class=\"data row9 col6\" >0.13</td>\n",
       "      <td id=\"T_44b95_row9_col7\" class=\"data row9 col7\" >0.07</td>\n",
       "      <td id=\"T_44b95_row9_col8\" class=\"data row9 col8\" >0.16</td>\n",
       "      <td id=\"T_44b95_row9_col9\" class=\"data row9 col9\" >1.00</td>\n",
       "      <td id=\"T_44b95_row9_col10\" class=\"data row9 col10\" >-0.02</td>\n",
       "      <td id=\"T_44b95_row9_col11\" class=\"data row9 col11\" >0.05</td>\n",
       "    </tr>\n",
       "    <tr>\n",
       "      <th id=\"T_44b95_level0_row10\" class=\"row_heading level0 row10\" >alcohol</th>\n",
       "      <td id=\"T_44b95_row10_col0\" class=\"data row10 col0\" >-0.12</td>\n",
       "      <td id=\"T_44b95_row10_col1\" class=\"data row10 col1\" >0.07</td>\n",
       "      <td id=\"T_44b95_row10_col2\" class=\"data row10 col2\" >-0.08</td>\n",
       "      <td id=\"T_44b95_row10_col3\" class=\"data row10 col3\" >-0.45</td>\n",
       "      <td id=\"T_44b95_row10_col4\" class=\"data row10 col4\" >-0.36</td>\n",
       "      <td id=\"T_44b95_row10_col5\" class=\"data row10 col5\" >-0.25</td>\n",
       "      <td id=\"T_44b95_row10_col6\" class=\"data row10 col6\" >-0.45</td>\n",
       "      <td id=\"T_44b95_row10_col7\" class=\"data row10 col7\" >-0.78</td>\n",
       "      <td id=\"T_44b95_row10_col8\" class=\"data row10 col8\" >0.12</td>\n",
       "      <td id=\"T_44b95_row10_col9\" class=\"data row10 col9\" >-0.02</td>\n",
       "      <td id=\"T_44b95_row10_col10\" class=\"data row10 col10\" >1.00</td>\n",
       "      <td id=\"T_44b95_row10_col11\" class=\"data row10 col11\" >0.44</td>\n",
       "    </tr>\n",
       "    <tr>\n",
       "      <th id=\"T_44b95_level0_row11\" class=\"row_heading level0 row11\" >quality</th>\n",
       "      <td id=\"T_44b95_row11_col0\" class=\"data row11 col0\" >-0.11</td>\n",
       "      <td id=\"T_44b95_row11_col1\" class=\"data row11 col1\" >-0.19</td>\n",
       "      <td id=\"T_44b95_row11_col2\" class=\"data row11 col2\" >-0.01</td>\n",
       "      <td id=\"T_44b95_row11_col3\" class=\"data row11 col3\" >-0.10</td>\n",
       "      <td id=\"T_44b95_row11_col4\" class=\"data row11 col4\" >-0.21</td>\n",
       "      <td id=\"T_44b95_row11_col5\" class=\"data row11 col5\" >0.01</td>\n",
       "      <td id=\"T_44b95_row11_col6\" class=\"data row11 col6\" >-0.17</td>\n",
       "      <td id=\"T_44b95_row11_col7\" class=\"data row11 col7\" >-0.31</td>\n",
       "      <td id=\"T_44b95_row11_col8\" class=\"data row11 col8\" >0.10</td>\n",
       "      <td id=\"T_44b95_row11_col9\" class=\"data row11 col9\" >0.05</td>\n",
       "      <td id=\"T_44b95_row11_col10\" class=\"data row11 col10\" >0.44</td>\n",
       "      <td id=\"T_44b95_row11_col11\" class=\"data row11 col11\" >1.00</td>\n",
       "    </tr>\n",
       "  </tbody>\n",
       "</table>\n"
      ],
      "text/plain": [
       "<pandas.io.formats.style.Styler at 0x19996aaa350>"
      ]
     },
     "execution_count": 19,
     "metadata": {},
     "output_type": "execute_result"
    }
   ],
   "source": [
    "corr = df.corr('pearson')\n",
    "corr.style.background_gradient(cmap='coolwarm').set_precision(2)"
   ]
  },
  {
   "attachments": {},
   "cell_type": "markdown",
   "metadata": {},
   "source": [
    "We can see that some of the statements that we made when plotting the boxplots were correct:\n",
    "* Alcohol and quality are positively correlated (alcohol increases as quality increses)\n",
    "* Fixed and volatile acidity, as well as chlorides, are negatively correlated to quality.\n",
    "* Free and total sulfur dioxide are highly correlated. \n",
    "Some things we missed:\n",
    "* Density is negatively correlated to quality.\n",
    "\n",
    "We can also see some other useful insights that we could not have guessed from the plots (because we only looked against quality):\n",
    "* Density and residual sugar are highly correlated.\n",
    "* Density and alcohol are highly correlated (negatively). \n",
    "* Alcohol is also correlated negatively with residual sugar (makes sense since its correlated to density), chlorides, free and total sulfur dioxide. "
   ]
  },
  {
   "attachments": {},
   "cell_type": "markdown",
   "metadata": {},
   "source": [
    "Finally, before getting into the ML models, let's analyse outliers."
   ]
  },
  {
   "cell_type": "code",
   "execution_count": 27,
   "metadata": {},
   "outputs": [
    {
     "data": {
      "image/png": "[encoded data removed]",
      "text/plain": [
       "<Figure size 1800x360 with 12 Axes>"
      ]
     },
     "metadata": {
      "needs_background": "light"
     },
     "output_type": "display_data"
    }
   ],
   "source": [
    "fig, axs = plt.subplots(nrows=1, ncols=len(df.columns), figsize=(25,5))\n",
    "\n",
    "# Itera sobre cada columna de tu DataFrame y grafica un boxplot en su propio subplot\n",
    "for i, col in enumerate(df.columns):\n",
    "    axs[i].boxplot(df[col])\n",
    "    axs[i].set_title(col)\n",
    "\n",
    "# Muestra la figura\n",
    "plt.show()"
   ]
  },
  {
   "attachments": {},
   "cell_type": "markdown",
   "metadata": {},
   "source": [
    "We see that there are outliers present in every feature. I took the decision of leaving them, with the hypothesis that they're useful for detecting both very good and very bad wines. Maybe very good/bad wines have particular features that make them different from average wines. "
   ]
  },
  {
   "attachments": {},
   "cell_type": "markdown",
   "metadata": {},
   "source": [
    "Ok now let's begging preparing the data to use in the ML models"
   ]
  },
  {
   "cell_type": "code",
   "execution_count": 56,
   "metadata": {},
   "outputs": [],
   "source": [
    "from sklearn.model_selection import train_test_split\n",
    "\n",
    "#we separate our target variable\n",
    "x = df.drop('quality', axis = 1)\n",
    "y = df['quality'].copy()\n",
    "\n",
    "#we apply the threshold (notice > or <, not >= or <=)\n",
    "y[y<7] = 0 #bad wine\n",
    "y[y>6] = 1 #good wine\n",
    "x_train, x_test, y_train, y_test = train_test_split(x, y, test_size = 0.3, \n",
    "                                                    random_state = 1, stratify= y) #we use stratify so we mantain proportions of 0's and 1's in both sets"
   ]
  },
  {
   "cell_type": "code",
   "execution_count": 58,
   "metadata": {},
   "outputs": [
    {
     "name": "stdout",
     "output_type": "stream",
     "text": [
      "0    2686\n",
      "1     742\n",
      "Name: quality, dtype: int64\n",
      "0    1152\n",
      "1     318\n",
      "Name: quality, dtype: int64\n"
     ]
    }
   ],
   "source": [
    "#Just to confirm, lets see our target variables for train and test\n",
    "print(y_train.value_counts())\n",
    "print(y_test.value_counts())"
   ]
  },
  {
   "attachments": {},
   "cell_type": "markdown",
   "metadata": {},
   "source": [
    "The two models I chose were: random forest and xgboost, since both are flexible and robust algorithms, and also allow me to observe feature importance.\n",
    "I would like to analyze that importance and retrain it using only the most important features in order to compare results. Maybe we will be able to drop some highly correlated variables \n",
    "\n",
    "Due to the imbalance of data, I will analyze as main metrics the confusion matrix and the f1-score since it's a more fair and balanced metric. \n",
    "In a more real-life or business oriented example, I would need to hear from the client which the use case of the model will be. \n",
    "\n",
    "For example: for a business that sells \"recommended wines\" it may be more important to be really sure that a wine recommended as good it is actually good, and may be willing to pass on a few wines. In that case, precision would be a better suited metric.\n",
    "\n",
    "Another example could be a personal example, where I really want to  find out an get to taste all the good wines in the market. My goal of finding every possible good wine leads me to try to minimize all false negatives, as I really don't want to miss on a possibly good wine. In that case, recall would be the best metric to optimize."
   ]
  },
  {
   "attachments": {},
   "cell_type": "markdown",
   "metadata": {},
   "source": [
    "Let's begin with RandomForest"
   ]
  },
  {
   "cell_type": "code",
   "execution_count": 69,
   "metadata": {},
   "outputs": [
    {
     "name": "stdout",
     "output_type": "stream",
     "text": [
      "Los resultados para el set de training:\n",
      "              precision    recall  f1-score   support\n",
      "\n",
      "           0       0.96      0.99      0.98      2686\n",
      "           1       0.98      0.85      0.91       742\n",
      "\n",
      "    accuracy                           0.96      3428\n",
      "   macro avg       0.97      0.92      0.94      3428\n",
      "weighted avg       0.96      0.96      0.96      3428\n",
      "\n",
      "Con una matriz de confusion:\n"
     ]
    },
    {
     "data": {
      "image/png": "[encoded data removed]",
      "text/plain": [
       "<Figure size 432x288 with 2 Axes>"
      ]
     },
     "metadata": {
      "needs_background": "light"
     },
     "output_type": "display_data"
    },
    {
     "name": "stdout",
     "output_type": "stream",
     "text": [
      "Los resultados para el set de testing:\n",
      "              precision    recall  f1-score   support\n",
      "\n",
      "           0       0.88      0.96      0.92      1152\n",
      "           1       0.78      0.54      0.64       318\n",
      "\n",
      "    accuracy                           0.87      1470\n",
      "   macro avg       0.83      0.75      0.78      1470\n",
      "weighted avg       0.86      0.87      0.86      1470\n",
      "\n",
      "Con una matriz de confusion:\n"
     ]
    },
    {
     "data": {
      "image/png": "[encoded data removed]",
      "text/plain": [
       "<Figure size 432x288 with 2 Axes>"
      ]
     },
     "metadata": {
      "needs_background": "light"
     },
     "output_type": "display_data"
    },
    {
     "name": "stdout",
     "output_type": "stream",
     "text": [
      "alcohol                 0.191653\n",
      "density                 0.136000\n",
      "chlorides               0.084449\n",
      "residual sugar          0.083034\n",
      "volatile acidity        0.081246\n",
      "pH                      0.078190\n",
      "free sulfur dioxide     0.076404\n",
      "total sulfur dioxide    0.075379\n",
      "sulphates               0.070351\n",
      "citric acid             0.065770\n",
      "fixed acidity           0.057525\n",
      "dtype: float64\n"
     ]
    }
   ],
   "source": [
    "from sklearn.ensemble import RandomForestClassifier\n",
    "from sklearn.metrics import classification_report, confusion_matrix, ConfusionMatrixDisplay\n",
    "rf = RandomForestClassifier(max_depth=10, random_state=0, n_estimators =75)\n",
    "rf.fit(x_train, y_train)\n",
    "\n",
    "y_train_pred = rf.predict(x_train)\n",
    "print('Los resultados para el set de training:')\n",
    "print(classification_report(y_train, y_train_pred))\n",
    "print('Con una matriz de confusion:')\n",
    "cm_train = confusion_matrix(y_train, y_train_pred)\n",
    "disp = ConfusionMatrixDisplay(confusion_matrix=cm_train,\n",
    "                            display_labels=rf.classes_)\n",
    "disp.plot()\n",
    "plt.show()\n",
    "\n",
    "y_test_pred = rf.predict(x_test)\n",
    "print('Los resultados para el set de testing:')\n",
    "print(classification_report(y_test, y_test_pred))\n",
    "print('Con una matriz de confusion:')\n",
    "cm_test = confusion_matrix(y_test, y_test_pred)\n",
    "disp = ConfusionMatrixDisplay(confusion_matrix=cm_test,\n",
    "                            display_labels=rf.classes_)\n",
    "disp.plot()\n",
    "plt.show()\n",
    "\n",
    "## Feature importances\n",
    "important_features = pd.Series(data=rf.feature_importances_,index=x_train.columns)\n",
    "important_features.sort_values(ascending=False,inplace=True)\n",
    "print(important_features)"
   ]
  },
  {
   "attachments": {},
   "cell_type": "markdown",
   "metadata": {},
   "source": [
    "From the metrics, we can see that for the training set we get a 0.94 f1-score and for the testing set we get 0.78. We can infer that we have some overfitting happening.\n",
    "We can also see that the model struggles mostly with false negatives. That could be in part due to the fact that we have an imbalanced dataset, with more negatives samples than positive samples.\n",
    "\n",
    "From the feature importance list we see that the main feature is alcohol, with density and chlorides in second and third place respectively. This is in line with what we found out when analysing the correlation matrix. "
   ]
  },
  {
   "attachments": {},
   "cell_type": "markdown",
   "metadata": {},
   "source": [
    "Now let's try XGBoost"
   ]
  },
  {
   "cell_type": "code",
   "execution_count": 73,
   "metadata": {},
   "outputs": [
    {
     "name": "stdout",
     "output_type": "stream",
     "text": [
      "Los resultados para el set de training:\n",
      "              precision    recall  f1-score   support\n",
      "\n",
      "           0       0.97      0.99      0.98      2686\n",
      "           1       0.97      0.88      0.92       742\n",
      "\n",
      "    accuracy                           0.97      3428\n",
      "   macro avg       0.97      0.93      0.95      3428\n",
      "weighted avg       0.97      0.97      0.97      3428\n",
      "\n",
      "Con una matriz de confusion:\n"
     ]
    },
    {
     "data": {
      "image/png": "[encoded data removed]",
      "text/plain": [
       "<Figure size 432x288 with 2 Axes>"
      ]
     },
     "metadata": {
      "needs_background": "light"
     },
     "output_type": "display_data"
    },
    {
     "name": "stdout",
     "output_type": "stream",
     "text": [
      "Los resultados para el set de testing:\n",
      "              precision    recall  f1-score   support\n",
      "\n",
      "           0       0.90      0.93      0.91      1152\n",
      "           1       0.71      0.61      0.65       318\n",
      "\n",
      "    accuracy                           0.86      1470\n",
      "   macro avg       0.80      0.77      0.78      1470\n",
      "weighted avg       0.86      0.86      0.86      1470\n",
      "\n",
      "Con una matriz de confusion:\n"
     ]
    },
    {
     "data": {
      "image/png": "[encoded data removed]",
      "text/plain": [
       "<Figure size 432x288 with 2 Axes>"
      ]
     },
     "metadata": {
      "needs_background": "light"
     },
     "output_type": "display_data"
    },
    {
     "name": "stdout",
     "output_type": "stream",
     "text": [
      "alcohol                 0.325545\n",
      "volatile acidity        0.081602\n",
      "sulphates               0.071430\n",
      "citric acid             0.068673\n",
      "residual sugar          0.068313\n",
      "density                 0.067430\n",
      "free sulfur dioxide     0.067203\n",
      "fixed acidity           0.065269\n",
      "pH                      0.064604\n",
      "chlorides               0.064004\n",
      "total sulfur dioxide    0.055928\n",
      "dtype: float32\n"
     ]
    }
   ],
   "source": [
    "from xgboost import XGBClassifier\n",
    "from sklearn.metrics import classification_report, confusion_matrix, ConfusionMatrixDisplay\n",
    "xgb_clf = XGBClassifier(objective='binary:logistic',random_state=0, max_depth=4)\n",
    "xgb_clf.fit(x_train, y_train)\n",
    "\n",
    "y_train_pred = xgb_clf.predict(x_train)\n",
    "print('Los resultados para el set de training:')\n",
    "print(classification_report(y_train, y_train_pred))\n",
    "print('Con una matriz de confusion:')\n",
    "cm_train = confusion_matrix(y_train, y_train_pred)\n",
    "disp = ConfusionMatrixDisplay(confusion_matrix=cm_train,\n",
    "                            display_labels=xgb_clf.classes_)\n",
    "disp.plot()\n",
    "plt.show()\n",
    "\n",
    "y_test_pred = xgb_clf.predict(x_test)\n",
    "print('Los resultados para el set de testing:')\n",
    "print(classification_report(y_test, y_test_pred))\n",
    "print('Con una matriz de confusion:')\n",
    "cm_test = confusion_matrix(y_test, y_test_pred)\n",
    "disp = ConfusionMatrixDisplay(confusion_matrix=cm_test,\n",
    "                            display_labels=xgb_clf.classes_)\n",
    "disp.plot()\n",
    "plt.show()\n",
    "\n",
    "## Feature importances\n",
    "important_features = pd.Series(data=xgb_clf.feature_importances_,index=x_train.columns)\n",
    "important_features.sort_values(ascending=False,inplace=True)\n",
    "print(important_features)"
   ]
  },
  {
   "attachments": {},
   "cell_type": "markdown",
   "metadata": {},
   "source": [
    "In this case we get similar f1-scores to that of the RandomForest, with 0.94 for training set and 0.78 for testing set. We still show signs of overfitting.\n",
    "\n",
    "There's a small difference regarding precision and recall for the positive class. Now we have 0.71 precision and 0.61 recall, meanwhile for RandomForest we had 0.78 and 0.54 respectively.\n",
    "\n",
    "The biggest difference is in the feature importance list. Alcohol now becames much more important (double than for RF), while density and chlorides features are really down the list now. The second most important feature is volatile acidity, followed by sulphates."
   ]
  },
  {
   "attachments": {},
   "cell_type": "markdown",
   "metadata": {},
   "source": [
    "I think that the main issues we are facing are data imbalance and high correlation between some of the features. One way to solve data imbalance would be to change the threshold (but i think we would be imbalanced the other way), another way could be getting more positive (good wine) samples. \n",
    "\n",
    "To face the high correlation of some features, I propose to drop some of the highly correlated features. We could drop total sulfur dioxide and residual sugar, since they are both highly correlated to other variables, and their importance in the feature importance list is not that high.\n",
    "\n",
    "Lets test this hypothesis."
   ]
  },
  {
   "cell_type": "code",
   "execution_count": 74,
   "metadata": {},
   "outputs": [],
   "source": [
    "#we separate our target variable\n",
    "drop_attr = ['quality','total sulfur dioxide', 'residual sugar']\n",
    "x = df.drop(drop_attr, axis = 1)\n",
    "y = df['quality'].copy()\n",
    "\n",
    "#we apply the threshold (notice > or <, not >= or <=)\n",
    "y[y<7] = 0 #bad wine\n",
    "y[y>6] = 1 #good wine\n",
    "x_train, x_test, y_train, y_test = train_test_split(x, y, test_size = 0.3, \n",
    "                                                    random_state = 1, stratify= y) #we use stratify so we mantain proportions of 0's and 1's in both sets"
   ]
  },
  {
   "cell_type": "code",
   "execution_count": 77,
   "metadata": {},
   "outputs": [
    {
     "name": "stdout",
     "output_type": "stream",
     "text": [
      "Los resultados para el set de training:\n",
      "              precision    recall  f1-score   support\n",
      "\n",
      "           0       0.96      0.99      0.97      2686\n",
      "           1       0.95      0.84      0.89       742\n",
      "\n",
      "    accuracy                           0.95      3428\n",
      "   macro avg       0.95      0.91      0.93      3428\n",
      "weighted avg       0.95      0.95      0.95      3428\n",
      "\n",
      "Con una matriz de confusion:\n"
     ]
    },
    {
     "data": {
      "image/png": "[encoded data removed]",
      "text/plain": [
       "<Figure size 432x288 with 2 Axes>"
      ]
     },
     "metadata": {
      "needs_background": "light"
     },
     "output_type": "display_data"
    },
    {
     "name": "stdout",
     "output_type": "stream",
     "text": [
      "Los resultados para el set de testing:\n",
      "              precision    recall  f1-score   support\n",
      "\n",
      "           0       0.89      0.95      0.92      1152\n",
      "           1       0.78      0.58      0.67       318\n",
      "\n",
      "    accuracy                           0.87      1470\n",
      "   macro avg       0.83      0.77      0.79      1470\n",
      "weighted avg       0.87      0.87      0.87      1470\n",
      "\n",
      "Con una matriz de confusion:\n"
     ]
    },
    {
     "data": {
      "image/png": "[encoded data removed]",
      "text/plain": [
       "<Figure size 432x288 with 2 Axes>"
      ]
     },
     "metadata": {
      "needs_background": "light"
     },
     "output_type": "display_data"
    },
    {
     "name": "stdout",
     "output_type": "stream",
     "text": [
      "alcohol                0.295687\n",
      "volatile acidity       0.104403\n",
      "citric acid            0.096401\n",
      "density                0.090149\n",
      "fixed acidity          0.087691\n",
      "free sulfur dioxide    0.086411\n",
      "pH                     0.081694\n",
      "sulphates              0.080085\n",
      "chlorides              0.077478\n",
      "dtype: float32\n"
     ]
    }
   ],
   "source": [
    "from xgboost import XGBClassifier\n",
    "from sklearn.metrics import classification_report, confusion_matrix, ConfusionMatrixDisplay\n",
    "xgb_clf = XGBClassifier(objective='binary:logistic',random_state=0, max_depth=4)\n",
    "xgb_clf.fit(x_train, y_train)\n",
    "\n",
    "y_train_pred = xgb_clf.predict(x_train)\n",
    "print('Los resultados para el set de training:')\n",
    "print(classification_report(y_train, y_train_pred))\n",
    "print('Con una matriz de confusion:')\n",
    "cm_train = confusion_matrix(y_train, y_train_pred)\n",
    "disp = ConfusionMatrixDisplay(confusion_matrix=cm_train,\n",
    "                            display_labels=xgb_clf.classes_)\n",
    "disp.plot()\n",
    "plt.show()\n",
    "\n",
    "y_test_pred = xgb_clf.predict(x_test)\n",
    "print('Los resultados para el set de testing:')\n",
    "print(classification_report(y_test, y_test_pred))\n",
    "print('Con una matriz de confusion:')\n",
    "cm_test = confusion_matrix(y_test, y_test_pred)\n",
    "disp = ConfusionMatrixDisplay(confusion_matrix=cm_test,\n",
    "                            display_labels=xgb_clf.classes_)\n",
    "disp.plot()\n",
    "plt.show()\n",
    "\n",
    "## Feature importances\n",
    "important_features = pd.Series(data=xgb_clf.feature_importances_,index=x_train.columns)\n",
    "important_features.sort_values(ascending=False,inplace=True)\n",
    "print(important_features)"
   ]
  },
  {
   "attachments": {},
   "cell_type": "markdown",
   "metadata": {},
   "source": [
    "We got a small improvement from that, we now have fewer false positives. We can also see that alcohol importance has dropped a few points.\n",
    "\n",
    "Last thing I'd like to try is to make a random search to try to get the best hyperparameters. "
   ]
  },
  {
   "cell_type": "code",
   "execution_count": 78,
   "metadata": {},
   "outputs": [
    {
     "name": "stdout",
     "output_type": "stream",
     "text": [
      "Best hyperparameters: {'subsample': 0.8, 'reg_lambda': 0.6000000000000001, 'reg_alpha': 0.0, 'n_estimators': 400, 'max_depth': 8, 'learning_rate': 0.45, 'gamma': 0, 'colsample_bytree': 0.8}\n"
     ]
    }
   ],
   "source": [
    "from sklearn.model_selection import RandomizedSearchCV\n",
    "import numpy as np\n",
    "xgb_clf = XGBClassifier(objective='binary:logistic',random_state=0)\n",
    "\n",
    "# define hyperparameter range\n",
    "param_dist = {\n",
    "    'learning_rate': np.arange(0.01, 1, 0.01),\n",
    "    'max_depth': np.arange(1, 10),\n",
    "    'n_estimators': np.arange(100, 1000, 100),\n",
    "    'gamma': np.arange(0, 10),\n",
    "    'subsample': np.arange(0.1, 1, 0.1),\n",
    "    'colsample_bytree': np.arange(0.1, 1, 0.1),\n",
    "    'reg_alpha': np.arange(0, 1, 0.1),\n",
    "    'reg_lambda': np.arange(0, 1, 0.1),\n",
    "}\n",
    "\n",
    "# perform random search with 100 different combinations\n",
    "xgb_random = RandomizedSearchCV(\n",
    "    xgb_clf, \n",
    "    param_distributions=param_dist, \n",
    "    n_iter=100, \n",
    "    cv=5, \n",
    "    random_state=42, \n",
    "    n_jobs=-1\n",
    ")\n",
    "\n",
    "# Train, found and print best hyperparameters found\n",
    "xgb_random.fit(x_train, y_train)\n",
    "print(f\"Best hyperparameters: {xgb_random.best_params_}\")"
   ]
  },
  {
   "cell_type": "code",
   "execution_count": 81,
   "metadata": {},
   "outputs": [
    {
     "name": "stdout",
     "output_type": "stream",
     "text": [
      "Los resultados para el set de training:\n",
      "              precision    recall  f1-score   support\n",
      "\n",
      "           0       1.00      1.00      1.00      2686\n",
      "           1       1.00      1.00      1.00       742\n",
      "\n",
      "    accuracy                           1.00      3428\n",
      "   macro avg       1.00      1.00      1.00      3428\n",
      "weighted avg       1.00      1.00      1.00      3428\n",
      "\n",
      "Con una matriz de confusion:\n"
     ]
    },
    {
     "data": {
      "image/png": "[encoded data removed]",
      "text/plain": [
       "<Figure size 432x288 with 2 Axes>"
      ]
     },
     "metadata": {
      "needs_background": "light"
     },
     "output_type": "display_data"
    },
    {
     "name": "stdout",
     "output_type": "stream",
     "text": [
      "Los resultados para el set de testing:\n",
      "              precision    recall  f1-score   support\n",
      "\n",
      "           0       0.90      0.93      0.91      1152\n",
      "           1       0.70      0.64      0.67       318\n",
      "\n",
      "    accuracy                           0.86      1470\n",
      "   macro avg       0.80      0.78      0.79      1470\n",
      "weighted avg       0.86      0.86      0.86      1470\n",
      "\n",
      "Con una matriz de confusion:\n"
     ]
    },
    {
     "data": {
      "image/png": "[encoded data removed]",
      "text/plain": [
       "<Figure size 432x288 with 2 Axes>"
      ]
     },
     "metadata": {
      "needs_background": "light"
     },
     "output_type": "display_data"
    },
    {
     "name": "stdout",
     "output_type": "stream",
     "text": [
      "alcohol                0.171510\n",
      "density                0.126875\n",
      "volatile acidity       0.109193\n",
      "free sulfur dioxide    0.107746\n",
      "pH                     0.107119\n",
      "chlorides              0.100239\n",
      "fixed acidity          0.097447\n",
      "citric acid            0.090057\n",
      "sulphates              0.089813\n",
      "dtype: float32\n"
     ]
    }
   ],
   "source": [
    "xgb_clf = xgb_random.best_estimator_\n",
    "y_train_pred = xgb_clf.predict(x_train)\n",
    "print('Los resultados para el set de training:')\n",
    "print(classification_report(y_train, y_train_pred))\n",
    "print('Con una matriz de confusion:')\n",
    "cm_train = confusion_matrix(y_train, y_train_pred)\n",
    "disp = ConfusionMatrixDisplay(confusion_matrix=cm_train,\n",
    "                            display_labels=xgb_clf.classes_)\n",
    "disp.plot()\n",
    "plt.show()\n",
    "\n",
    "y_test_pred = xgb_clf.predict(x_test)\n",
    "print('Los resultados para el set de testing:')\n",
    "print(classification_report(y_test, y_test_pred))\n",
    "print('Con una matriz de confusion:')\n",
    "cm_test = confusion_matrix(y_test, y_test_pred)\n",
    "disp = ConfusionMatrixDisplay(confusion_matrix=cm_test,\n",
    "                            display_labels=xgb_clf.classes_)\n",
    "disp.plot()\n",
    "plt.show()\n",
    "\n",
    "## Feature importances\n",
    "important_features = pd.Series(data=xgb_clf.feature_importances_,index=x_train.columns)\n",
    "important_features.sort_values(ascending=False,inplace=True)\n",
    "print(important_features)"
   ]
  },
  {
   "attachments": {},
   "cell_type": "markdown",
   "metadata": {},
   "source": [
    "In the end, we did not end up with a better f1-score optimizing hyperparameters. The biggest change we find is with regards to overfitting, because now it's much more noticeable, as we get perfect scores for training while maintaining the same scores as before in the testing set. \n",
    "\n",
    "We also can see that the feature importance matrix changed subtantially, alcohol importance dropped by almost half of what it was, and density again becomes the second most important feature.\n",
    "\n",
    "We still have the issue of the imbalanced data, as we can see that for the bad wine class we have precision and recall metrics of 0.90 and 0.93, respectively. Meanwhile, for the good wine class those metrics drop to 0.70 and 0.64 respectively"
   ]
  },
  {
   "attachments": {},
   "cell_type": "markdown",
   "metadata": {},
   "source": []
  }
 ],
 "metadata": {
  "kernelspec": {
   "display_name": "Python 3",
   "language": "python",
   "name": "python3"
  },
  "language_info": {
   "codemirror_mode": {
    "name": "ipython",
    "version": 3
   },
   "file_extension": ".py",
   "mimetype": "text/x-python",
   "name": "python",
   "nbconvert_exporter": "python",
   "pygments_lexer": "ipython3",
   "version": "3.10.11"
  },
  "orig_nbformat": 4
 },
 "nbformat": 4,
 "nbformat_minor": 2
}
